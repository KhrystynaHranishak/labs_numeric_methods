{
 "cells": [
  {
   "cell_type": "markdown",
   "metadata": {},
   "source": [
    "## Метод Гауса"
   ]
  },
  {
   "cell_type": "code",
   "execution_count": 1,
   "metadata": {},
   "outputs": [],
   "source": [
    "import numpy as np\n",
    "import copy\n",
    "import random\n",
    "import sys"
   ]
  },
  {
   "cell_type": "markdown",
   "metadata": {},
   "source": [
    "##### Введіть, будь ласка, матрицю A системи  порядково, використовуючи space як розділювач, і вектор b"
   ]
  },
  {
   "cell_type": "code",
   "execution_count": 22,
   "metadata": {},
   "outputs": [
    {
     "name": "stdout",
     "output_type": "stream",
     "text": [
      "Input the number of rows:3\n",
      "Input the number of columns:3\n",
      "\n",
      "The size of matrix is 3 x 3\n",
      "\n",
      "Input the row of the matrix as a separator use space:2 -7 1\n",
      "Input the row of the matrix as a separator use space:3 -1 8\n",
      "Input the row of the matrix as a separator use space:10 -2 3\n",
      "Input the vector b as a separator use space:15 12 18\n",
      "\n",
      "The matrix A is:\n",
      "[[ 2. -7.  1.]\n",
      " [ 3. -1.  8.]\n",
      " [10. -2.  3.]]\n",
      "\n",
      "The vector b is:\n",
      "[[15.]\n",
      " [12.]\n",
      " [18.]]\n"
     ]
    }
   ],
   "source": [
    "# input the data from keyboard\n",
    "error = True\n",
    "while error:\n",
    "    try:\n",
    "        rows_number = int(input('Input the number of rows:'))\n",
    "        columns_number = int(input('Input the number of columns:'))\n",
    "        matrix_size = [rows_number, columns_number]\n",
    "        print('\\n' + 'The size of matrix is ' + str(rows_number) + ' x ' + str(columns_number) + '\\n')\n",
    "        \n",
    "        matrix = []\n",
    "        while (rows_number != 0):\n",
    "            row = input('Input the row of the matrix as a separator use space:')\n",
    "            row = row.split(' ')\n",
    "            row = [float(x) for x in row]\n",
    "            matrix.append(row)\n",
    "            rows_number = rows_number - 1\n",
    "        \n",
    "        vector_b = []\n",
    "        row = input('Input the vector b as a separator use space:')\n",
    "        row = row.split(' ')\n",
    "        vector_b = [float(x) for x in row]\n",
    "        error = False\n",
    "        \n",
    "        print('\\n' + 'The matrix A is:')\n",
    "        print(np.array(matrix))\n",
    "        print('\\n' + 'The vector b is:')\n",
    "        vector_b1 = np.array(vector_b)\n",
    "        print(vector_b1.reshape(len(vector_b1), 1))\n",
    "        \n",
    "    except ValueError:\n",
    "        error = True\n",
    "        print(\"Incorrent format. Try again\")\n",
    "    "
   ]
  },
  {
   "cell_type": "markdown",
   "metadata": {},
   "source": [
    "#### Приклади з варіанту №4"
   ]
  },
  {
   "cell_type": "code",
   "execution_count": 3,
   "metadata": {},
   "outputs": [],
   "source": [
    "A_1 = [[2, 2, -1, 1], [-3, 0, 3, 0], [-1, 3, 3, 2], [1, 0, 0, 4]]\n",
    "b_1 = [3, -9, -7, 4]\n",
    "\n",
    "A_2 = [[0, 3, -1], [9, 24, 1], [21, -1, -16]]\n",
    "b_2 = [7, 20, 63]\n",
    "\n",
    "A_3 = [[5, 0, -7, 0], [-1, 6, 0, 1], [2, -6, -4, -5], [-6, -6, 15, 7]]\n",
    "b_3 = [-123, 60, -108, 159]"
   ]
  },
  {
   "cell_type": "markdown",
   "metadata": {},
   "source": [
    "#### Допоміжні функції"
   ]
  },
  {
   "cell_type": "code",
   "execution_count": 4,
   "metadata": {},
   "outputs": [],
   "source": [
    "def switch_rows(matrix, i, j): # switch the i row to j row\n",
    "    k = matrix[i]\n",
    "    matrix[i] = matrix[j]\n",
    "    matrix[j] = k\n",
    "    return matrix\n",
    "\n",
    "def find_main_element(matrix, j): # return the main element and number of row where it is\n",
    "    main_element = matrix[j][j]\n",
    "    row_number = j\n",
    "    for i in range(j+1, len(matrix)):\n",
    "        if abs(main_element) < abs(matrix[i][j]):\n",
    "            main_element = matrix[i][j]\n",
    "            row_number = i\n",
    "    return main_element, row_number\n",
    "\n",
    "def count_determinant(triangular_matrix, permutations): \n",
    "    determinant = (-1) ** permutations\n",
    "    for i in range(len(triangular_matrix)):\n",
    "        determinant = determinant * triangular_matrix[i][i]\n",
    "    return determinant \n",
    "\n",
    "def count_norm_matrix(matrix): # Октаєдрична норма\n",
    "    max_sum = 0\n",
    "    for j in range(len(matrix)):\n",
    "        sum_column = 0\n",
    "        for i in range(len(matrix)):\n",
    "            sum_column += abs(matrix[i][j])\n",
    "        if (max_sum < sum_column):\n",
    "            max_sum = sum_column\n",
    "    return max_sum\n",
    "\n",
    "def move_up(under_triangular_matrix, vector_b):\n",
    "    #error = False\n",
    "    size =len(under_triangular_matrix)\n",
    "    x = np.zeros(size)\n",
    "    if (under_triangular_matrix[size - 1][size - 1] != 0): \n",
    "        x[size - 1] = vector_b[size - 1] / under_triangular_matrix[size - 1][size - 1]\n",
    "        i = size - 2\n",
    "        while(i >= 0):\n",
    "            s = 0\n",
    "            for j in range(i+1, size):\n",
    "                s += under_triangular_matrix[i][j] * x[j]\n",
    "            x[i] = (vector_b[i] - s) / under_triangular_matrix[i][i]\n",
    "            i = i - 1\n",
    "    #else:\n",
    "    #    error = True\n",
    "    return x\n",
    "\n",
    "def move_down(down_triangular_matrix, vector_b):\n",
    "    #error = False\n",
    "    size =len(down_triangular_matrix)\n",
    "    x = np.zeros(size)\n",
    "    if (down_triangular_matrix[0][0] != 0):\n",
    "        x[0] = vector_b[0] / down_triangular_matrix[0][0]\n",
    "        i = 1\n",
    "        while (i < size):\n",
    "            s = 0\n",
    "            for j in range(i):\n",
    "                s += down_triangular_matrix[i][j] * x[j]\n",
    "            x[i] = (vector_b[i] - s) / down_triangular_matrix[i][i]\n",
    "            i = i + 1\n",
    "    #else:\n",
    "    #    error = True\n",
    "    return x"
   ]
  },
  {
   "cell_type": "code",
   "execution_count": 5,
   "metadata": {},
   "outputs": [],
   "source": [
    "# solution fo the system with Gauss` method\n",
    "def Gauss(m_A, v_b, eps):\n",
    "    \n",
    "    matrix = copy.deepcopy(m_A)\n",
    "    vector_b = copy.deepcopy(v_b)\n",
    "    \n",
    "    error = False\n",
    "    permutations = 0\n",
    "    for j in range(len(matrix) - 1):\n",
    "        main_element, row_number  = find_main_element(matrix, j)\n",
    "        #print(main_element)\n",
    "        if (abs(main_element) < eps): \n",
    "            error = True\n",
    "            break\n",
    "        else:\n",
    "            if (row_number != j):\n",
    "                matrix = switch_rows(matrix, j, row_number)\n",
    "                vector_b = switch_rows(vector_b, j, row_number)\n",
    "                permutations += 1\n",
    "            for i in range(j+1, len(matrix)):\n",
    "                t = matrix[i][j] / main_element\n",
    "                vector_b[i] = vector_b[i] - t * vector_b[j]\n",
    "                #print(vector_b)\n",
    "                matrix[i][j] = 0\n",
    "                for k in range(j+1, len(matrix)):\n",
    "                    matrix[i][k] = matrix[i][k] - t * matrix[j][k]\n",
    "                #print(matrix) \n",
    "    if not error:\n",
    "        x = np.zeros(len(matrix))\n",
    "        if (matrix[len(matrix) - 1][len(matrix) - 1] != 0): \n",
    "            x[len(matrix) - 1] = vector_b[len(matrix) - 1] / matrix[len(matrix) - 1][len(matrix) - 1]\n",
    "            i = len(matrix) - 2\n",
    "            while(i >= 0):\n",
    "                s = 0\n",
    "                for j in range(i+1, len(matrix)):\n",
    "                    s += matrix[i][j] * x[j]\n",
    "                x[i] = (vector_b[i] - s) / matrix[i][i]\n",
    "                i = i - 1\n",
    "            determinant = count_determinant(matrix, permutations)\n",
    "            return matrix, determinant, x, error, row_number\n",
    "        else:\n",
    "            error = True\n",
    " \n",
    "    return matrix, 0, 0, error, row_number\n"
   ]
  },
  {
   "cell_type": "code",
   "execution_count": 6,
   "metadata": {},
   "outputs": [],
   "source": [
    "# LU factorization\n",
    "\n",
    "def factorizate_matrix(matrix):\n",
    "    error = False\n",
    "    L_matrix = np.zeros_like(matrix, dtype = float)\n",
    "    U_matrix = np.zeros_like(matrix, dtype = float)\n",
    "    for i in range(len(matrix)):\n",
    "        for j in range(len(matrix)):\n",
    "            if (i == j):\n",
    "                L_matrix[i][i] = 1\n",
    "                                                       \n",
    "            if (i <= j):\n",
    "                sum_1 = 0\n",
    "                for k in range(i):\n",
    "                    sum_1 += L_matrix[i][k] * U_matrix[k][j]\n",
    "                U_matrix[i][j] = matrix[i][j] - sum_1\n",
    "            \n",
    "            if (i > j):\n",
    "                sum_2 = 0\n",
    "                for n in range(j):\n",
    "                    sum_2 += L_matrix[i][n] * U_matrix[n][j]\n",
    "                if (U_matrix[j][j] != 0):    \n",
    "                    L_matrix[i][j] = (1 / U_matrix[j][j]) * (matrix[i][j] - sum_2)\n",
    "                else:\n",
    "                    error = True\n",
    "                    break\n",
    "\n",
    "    return L_matrix, U_matrix, error"
   ]
  },
  {
   "cell_type": "code",
   "execution_count": 7,
   "metadata": {},
   "outputs": [],
   "source": [
    "# reverse matrix based on LU factorisation\n",
    "\n",
    "def find_reverse_matrix(L_matrix, U_matrix):\n",
    "    reverse_matrix = np.zeros_like(L_matrix, dtype = float)\n",
    "    \n",
    "    for j in range(len(U_matrix)):\n",
    "        one_vector = np.zeros(len(L_matrix))\n",
    "        y = np.zeros(len(L_matrix))\n",
    "        x = np.zeros(len(L_matrix))\n",
    "        one_vector[j] = 1\n",
    "        y = move_down(L_matrix, one_vector)\n",
    "        x = move_up(U_matrix, y)\n",
    "        \n",
    "        for k in range(len(x)):\n",
    "            reverse_matrix[k][j] = x[k]\n",
    "        \n",
    "    return reverse_matrix\n",
    "\n"
   ]
  },
  {
   "cell_type": "markdown",
   "metadata": {},
   "source": [
    "#### Збурення вектора вільних членів"
   ]
  },
  {
   "cell_type": "code",
   "execution_count": 25,
   "metadata": {},
   "outputs": [],
   "source": [
    "def perturbation(b, number_coordinates):\n",
    "    permutation = np.random.permutation(range(len(b)))\n",
    "    for k in range(number_coordinates):\n",
    "        b[permutation[k]] += 0.01 * b[permutation[k]]\n",
    "    return b\n",
    "\n",
    "def compare_solutions(A, b):\n",
    "    epsilon = sys.float_info.epsilon\n",
    "    initial_A = copy.deepcopy(A)\n",
    "    initial_b = copy.deepcopy(b)\n",
    "    new_b = perturbation(b, number_coordinates=3)\n",
    "    print('Initial data')\n",
    "    print(np.array(initial_A))\n",
    "    print(initial_b)\n",
    "    print('The new vector b')\n",
    "    print(new_b)\n",
    "    \n",
    "    matrix_A_1, det, x_1, error_Gauss, row = Gauss(initial_A, initial_b, epsilon)\n",
    "    matrix_A_2, det, x_2, error_Gauss, row = Gauss(A, new_b, epsilon)\n",
    "    print('The solution without perturbation')\n",
    "    print(x_1)\n",
    "    print('\\n' + 'The solution with perturbation 1%')\n",
    "    print(x_2)\n",
    "    print('\\n'+ 'Absolute difference:')\n",
    "    print(abs(x_1 - x_2))"
   ]
  },
  {
   "cell_type": "code",
   "execution_count": 9,
   "metadata": {},
   "outputs": [],
   "source": [
    "def print_answers(A, b):\n",
    "    epsilon = sys.float_info.epsilon\n",
    "    initial_A = copy.deepcopy(A)\n",
    "    initial_b = copy.deepcopy(b)\n",
    "    initial_b1 = np.array(initial_b)\n",
    "    matrix_A, det, x, error_Gauss, row = Gauss(A, b, epsilon)\n",
    "    L, U, error_LU = factorizate_matrix(initial_A)\n",
    "    \n",
    "    print('The initial matrix A and the vector b')\n",
    "    print(np.array(initial_A)) \n",
    "    print(initial_b1.reshape(len(initial_b), 1))\n",
    "\n",
    "    if error_Gauss:\n",
    "        print('The determinant of the matrix A is 0')\n",
    "        print('\\n' + 'Zero main element occured in the row #' + str(row))\n",
    "        print('\\n' + 'Answer of libraries')\n",
    "        print('The determinant of the matrix A: ')\n",
    "        print(np.linalg.det(initial_A))\n",
    "        print('\\n' + 'The matrix can not be factorized in L and U')\n",
    "        print('\\n' + 'The reverse matrix does not exist')\n",
    "    else:\n",
    "        print('The determinant of the matrix A:')\n",
    "        print(det)\n",
    "        print('The solution of the system:')\n",
    "        print(x)\n",
    "    \n",
    "        initial_A = np.array(initial_A)\n",
    "        initial_b = np.array(initial_b)\n",
    "        print('\\n' + 'Answers of libraries')\n",
    "        print('The determinant of the matrix A: ')\n",
    "        print(np.linalg.det(initial_A))\n",
    "        print('\\n' + 'The solution of the system:' )\n",
    "        print(np.linalg.solve(initial_A, initial_b))\n",
    "    \n",
    "        print('\\n' + 'The error of solution:')\n",
    "        print(initial_A.dot(x) - initial_b)\n",
    "    \n",
    "        if not error_LU:\n",
    "            print('\\n' + 'The matrix L')\n",
    "            print(L)\n",
    "            print('\\n' + 'The matrix U')\n",
    "            print(U)\n",
    "            print('LU - A')\n",
    "            print(L.dot(U) - initial_A)\n",
    "            \n",
    "            rev_A = find_reverse_matrix(L, U)\n",
    "            print('\\n' + 'The reverse matrix')\n",
    "            print(rev_A)\n",
    "            print('\\n' + 'The product of the matrix and the reverse matrix')\n",
    "            print(rev_A.dot(initial_A))\n",
    "            \n",
    "            cond_A = count_norm_matrix(initial_A) * count_norm_matrix(rev_A)\n",
    "            print('\\n' + 'The conditional number')\n",
    "            print(cond_A)\n",
    "        else:\n",
    "            print('\\n' + 'The matrix can not be factorized in L and U because one of minor is zero')\n",
    "            #print('\\n' + 'To find the reverse matrix th has been used')\n",
    "            \n",
    "            initial_A1 = copy.deepcopy(initial_A)\n",
    "            rev_A = np.linalg.inv(initial_A)\n",
    "            print('\\n' + 'The reverse matrix')\n",
    "            print(rev_A)\n",
    "            print('\\n' + 'The product of the matrix and the reverse matrix')\n",
    "            print(rev_A.dot(initial_A1))\n",
    "            \n",
    "            cond_A = count_norm_matrix(initial_A1) * count_norm_matrix(rev_A)\n",
    "            print('\\n' + 'The conditional number')\n",
    "            print(cond_A)\n",
    "            \n",
    "    \n",
    "    "
   ]
  },
  {
   "cell_type": "markdown",
   "metadata": {},
   "source": [
    "#### Результати для матриці 1 з варіанту №4"
   ]
  },
  {
   "cell_type": "code",
   "execution_count": 10,
   "metadata": {},
   "outputs": [
    {
     "name": "stdout",
     "output_type": "stream",
     "text": [
      "The initial matrix A and the vector b\n",
      "[[ 2  2 -1  1]\n",
      " [-3  0  3  0]\n",
      " [-1  3  3  2]\n",
      " [ 1  0  0  4]]\n",
      "[[ 3]\n",
      " [-9]\n",
      " [-7]\n",
      " [ 4]]\n",
      "The determinant of the matrix A:\n",
      "8.999999999999998\n",
      "The solution of the system:\n",
      "[ 4.00000000e+00 -2.00000000e+00  1.00000000e+00 -2.22044605e-16]\n",
      "\n",
      "Answers of libraries\n",
      "The determinant of the matrix A: \n",
      "8.999999999999998\n",
      "\n",
      "The solution of the system:\n",
      "[ 4.00000000e+00 -2.00000000e+00  1.00000000e+00 -2.22044605e-16]\n",
      "\n",
      "The error of solution:\n",
      "[ 0.0000000e+00  0.0000000e+00 -8.8817842e-16  0.0000000e+00]\n",
      "\n",
      "The matrix L\n",
      "[[ 1.          0.          0.          0.        ]\n",
      " [-1.5         1.          0.          0.        ]\n",
      " [-0.5         1.33333333  1.          0.        ]\n",
      " [ 0.5        -0.33333333  2.          1.        ]]\n",
      "\n",
      "The matrix U\n",
      "[[ 2.   2.  -1.   1. ]\n",
      " [ 0.   3.   1.5  1.5]\n",
      " [ 0.   0.   0.5  0.5]\n",
      " [ 0.   0.   0.   3. ]]\n",
      "LU - A\n",
      "[[0.00000000e+00 0.00000000e+00 0.00000000e+00 0.00000000e+00]\n",
      " [0.00000000e+00 0.00000000e+00 0.00000000e+00 0.00000000e+00]\n",
      " [0.00000000e+00 0.00000000e+00 0.00000000e+00 0.00000000e+00]\n",
      " [0.00000000e+00 5.55111512e-17 0.00000000e+00 0.00000000e+00]]\n",
      "\n",
      "The reverse matrix\n",
      "[[-4.         -4.          2.66666667 -0.33333333]\n",
      " [ 2.          1.66666667 -1.          0.        ]\n",
      " [-4.         -3.66666667  2.66666667 -0.33333333]\n",
      " [ 1.          1.         -0.66666667  0.33333333]]\n",
      "\n",
      "The product of the matrix and the reverse matrix\n",
      "[[ 1.00000000e+00 -4.44089210e-16 -4.44089210e-16 -2.22044605e-16]\n",
      " [-2.22044605e-16  1.00000000e+00  0.00000000e+00  0.00000000e+00]\n",
      " [-2.77555756e-16 -4.44089210e-16  1.00000000e+00 -2.22044605e-16]\n",
      " [-5.55111512e-17  1.11022302e-16  1.11022302e-16  1.00000000e+00]]\n",
      "\n",
      "The conditional number\n",
      "77.0\n"
     ]
    }
   ],
   "source": [
    "start_A_1 = copy.deepcopy(A_1)\n",
    "start_b_1 = copy.deepcopy(b_1)\n",
    "print_answers(A_1, b_1)"
   ]
  },
  {
   "cell_type": "markdown",
   "metadata": {},
   "source": [
    "#### Порівняння для системи 1 збуреного й незбуреного розв'язку"
   ]
  },
  {
   "cell_type": "code",
   "execution_count": 11,
   "metadata": {},
   "outputs": [
    {
     "name": "stdout",
     "output_type": "stream",
     "text": [
      "Initial data\n",
      "[[ 2  2 -1  1]\n",
      " [-3  0  3  0]\n",
      " [-1  3  3  2]\n",
      " [ 1  0  0  4]]\n",
      "[3, -9, -7, 4]\n",
      "The new vector b\n",
      "[3, -9, -7, 4.04]\n",
      "The solution without perturbation\n",
      "[ 4.00000000e+00 -2.00000000e+00  1.00000000e+00 -2.22044605e-16]\n",
      "\n",
      "The solution with perturbation 1%\n",
      "[ 3.98666667 -2.          0.98666667  0.01333333]\n",
      "\n",
      "Absolute difference:\n",
      "[0.01333333 0.         0.01333333 0.01333333]\n"
     ]
    }
   ],
   "source": [
    "compare_solutions(start_A_1, start_b_1)"
   ]
  },
  {
   "cell_type": "markdown",
   "metadata": {},
   "source": [
    "#### Результати для матриці 2 з варіанту №4"
   ]
  },
  {
   "cell_type": "code",
   "execution_count": 12,
   "metadata": {},
   "outputs": [
    {
     "name": "stdout",
     "output_type": "stream",
     "text": [
      "The initial matrix A and the vector b\n",
      "[[  0   3  -1]\n",
      " [  9  24   1]\n",
      " [ 21  -1 -16]]\n",
      "[[ 7]\n",
      " [20]\n",
      " [63]]\n",
      "The determinant of the matrix A:\n",
      "1008.0\n",
      "The solution of the system:\n",
      "[ 0.  1. -4.]\n",
      "\n",
      "Answers of libraries\n",
      "The determinant of the matrix A: \n",
      "1008.0000000000002\n",
      "\n",
      "The solution of the system:\n",
      "[ 0.  1. -4.]\n",
      "\n",
      "The error of solution:\n",
      "[0. 0. 0.]\n",
      "\n",
      "The matrix can not be factorized in L and U because one of minor is zero\n",
      "\n",
      "The reverse matrix\n",
      "[[-0.37996032  0.04861111  0.02678571]\n",
      " [ 0.16369048  0.02083333 -0.00892857]\n",
      " [-0.50892857  0.0625     -0.02678571]]\n",
      "\n",
      "The product of the matrix and the reverse matrix\n",
      "[[ 1.00000000e+00  1.28369537e-16 -5.55111512e-17]\n",
      " [ 3.81639165e-17  1.00000000e+00  0.00000000e+00]\n",
      " [-4.16333634e-17  9.71445147e-17  1.00000000e+00]]\n",
      "\n",
      "The conditional number\n",
      "31.577380952380953\n"
     ]
    }
   ],
   "source": [
    "start_A_2 = copy.deepcopy(A_2)\n",
    "start_b_2 = copy.deepcopy(b_2)\n",
    "print_answers(A_2, b_2) "
   ]
  },
  {
   "cell_type": "markdown",
   "metadata": {},
   "source": [
    "#### Порівняння для системи 2 збуреного й незбуреного розв'язку"
   ]
  },
  {
   "cell_type": "code",
   "execution_count": 13,
   "metadata": {},
   "outputs": [
    {
     "name": "stdout",
     "output_type": "stream",
     "text": [
      "Initial data\n",
      "[[  0   3  -1]\n",
      " [  9  24   1]\n",
      " [ 21  -1 -16]]\n",
      "[7, 20, 63]\n",
      "The new vector b\n",
      "[7, 20, 63.63]\n",
      "The solution without perturbation\n",
      "[ 0.  1. -4.]\n",
      "\n",
      "The solution with perturbation 1%\n",
      "[ 0.016875  0.994375 -4.016875]\n",
      "\n",
      "Absolute difference:\n",
      "[0.016875 0.005625 0.016875]\n"
     ]
    }
   ],
   "source": [
    "compare_solutions(start_A_2, start_b_2)"
   ]
  },
  {
   "cell_type": "markdown",
   "metadata": {},
   "source": [
    "####  Результати для матриці 3 з варіанту №4"
   ]
  },
  {
   "cell_type": "code",
   "execution_count": 15,
   "metadata": {},
   "outputs": [
    {
     "name": "stdout",
     "output_type": "stream",
     "text": [
      "The initial matrix A and the vector b\n",
      "[[ 5  0 -7  0]\n",
      " [-1  6  0  1]\n",
      " [ 2 -6 -4 -5]\n",
      " [-6 -6 15  7]]\n",
      "[[-123]\n",
      " [  60]\n",
      " [-108]\n",
      " [ 159]]\n",
      "The determinant of the matrix A is 0\n",
      "\n",
      "Zero main element occured in the row #3\n",
      "\n",
      "Answer of libraries\n",
      "The determinant of the matrix A: \n",
      "-2.0783375020982918e-13\n",
      "\n",
      "The matrix can not be factorized in L and U\n",
      "\n",
      "The reverse matrix does not exist\n"
     ]
    }
   ],
   "source": [
    "print_answers(A_3, b_3)"
   ]
  },
  {
   "cell_type": "markdown",
   "metadata": {},
   "source": [
    "#### Результати для матриці й вектора введених з клавіатури"
   ]
  },
  {
   "cell_type": "code",
   "execution_count": 23,
   "metadata": {},
   "outputs": [
    {
     "name": "stdout",
     "output_type": "stream",
     "text": [
      "The initial matrix A and the vector b\n",
      "[[ 2. -7.  1.]\n",
      " [ 3. -1.  8.]\n",
      " [10. -2.  3.]]\n",
      "[[15.]\n",
      " [12.]\n",
      " [18.]]\n",
      "The determinant of the matrix A:\n",
      "-466.99999999999994\n",
      "The solution of the system:\n",
      "[ 1.21413276 -1.67665953  0.83511777]\n",
      "\n",
      "Answers of libraries\n",
      "The determinant of the matrix A: \n",
      "-467.00000000000006\n",
      "\n",
      "The solution of the system:\n",
      "[ 1.21413276 -1.67665953  0.83511777]\n",
      "\n",
      "The error of solution:\n",
      "[0. 0. 0.]\n",
      "\n",
      "The matrix L\n",
      "[[1.         0.         0.        ]\n",
      " [1.5        1.         0.        ]\n",
      " [5.         3.47368421 1.        ]]\n",
      "\n",
      "The matrix U\n",
      "[[  2.          -7.           1.        ]\n",
      " [  0.           9.5          6.5       ]\n",
      " [  0.           0.         -24.57894737]]\n",
      "LU - A\n",
      "[[ 0.00000000e+00  0.00000000e+00  0.00000000e+00]\n",
      " [ 0.00000000e+00  0.00000000e+00  0.00000000e+00]\n",
      " [ 0.00000000e+00 -2.66453526e-15  0.00000000e+00]]\n",
      "\n",
      "The reverse matrix\n",
      "[[-0.02783726 -0.04068522  0.11777302]\n",
      " [-0.15203426  0.00856531  0.02783726]\n",
      " [-0.00856531  0.14132762 -0.04068522]]\n",
      "\n",
      "The product of the matrix and the reverse matrix\n",
      "[[ 1.00000000e+00 -1.11022302e-16  2.22044605e-16]\n",
      " [-6.93889390e-18  1.00000000e+00  3.12250226e-17]\n",
      " [-5.55111512e-17 -4.16333634e-17  1.00000000e+00]]\n",
      "\n",
      "The conditional number\n",
      "2.858672376873661\n"
     ]
    }
   ],
   "source": [
    "start_matrix = copy.deepcopy(matrix)\n",
    "start_vector_b = copy.deepcopy(vector_b)\n",
    "print_answers(matrix, vector_b)"
   ]
  },
  {
   "cell_type": "markdown",
   "metadata": {},
   "source": [
    "#### Порівняння для системи, введеної з клавіатури, збуреного й незбуреного розв'язку"
   ]
  },
  {
   "cell_type": "code",
   "execution_count": 26,
   "metadata": {},
   "outputs": [
    {
     "name": "stdout",
     "output_type": "stream",
     "text": [
      "Initial data\n",
      "[[ 2. -7.  1.]\n",
      " [ 3. -1.  8.]\n",
      " [10. -2.  3.]]\n",
      "[15.15, 12.12, 18.18]\n",
      "The new vector b\n",
      "[15.3015, 12.2412, 18.3618]\n",
      "The solution without perturbation\n",
      "[ 1.22627409 -1.69342612  0.84346895]\n",
      "\n",
      "The solution with perturbation 1%\n",
      "[ 1.23853683 -1.71036039  0.85190364]\n",
      "\n",
      "Absolute difference:\n",
      "[0.01226274 0.01693426 0.00843469]\n"
     ]
    }
   ],
   "source": [
    "compare_solutions(start_matrix,start_vector_b)"
   ]
  },
  {
   "cell_type": "markdown",
   "metadata": {},
   "source": [
    "### Висновки:\n",
    "##### Методом Гауса ми можемо знаходити розв'язки систем лінійних рівнянь, обчислювати детермінант та шукати обернену матрицю. \n",
    "#### Проблеми:\n",
    "##### - може виникати ділення на нуль або маленьке число. Щоб не накопичувалася похибка, ми на кожній ітерації обираємо максимальний елемент в стовпчику й ділимо на нього.\n"
   ]
  },
  {
   "cell_type": "code",
   "execution_count": null,
   "metadata": {},
   "outputs": [],
   "source": []
  }
 ],
 "metadata": {
  "kernelspec": {
   "display_name": "Python 3",
   "language": "python",
   "name": "python3"
  },
  "language_info": {
   "codemirror_mode": {
    "name": "ipython",
    "version": 3
   },
   "file_extension": ".py",
   "mimetype": "text/x-python",
   "name": "python",
   "nbconvert_exporter": "python",
   "pygments_lexer": "ipython3",
   "version": "3.5.2"
  }
 },
 "nbformat": 4,
 "nbformat_minor": 2
}
