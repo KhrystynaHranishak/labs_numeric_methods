{
 "cells": [
  {
   "cell_type": "code",
   "execution_count": 1,
   "metadata": {},
   "outputs": [
    {
     "name": "stdout",
     "output_type": "stream",
     "text": [
      "The initial matrix is \n",
      " [[ 100.    6.   -2.]\n",
      " [   6.  200.  -10.]\n",
      " [   1.   -2. -100.]]\n",
      "The initial vector is [200. 600. 500.]\n",
      "\n",
      "\n",
      "The changed matrix is \n",
      " [[ 0.   -0.06  0.02]\n",
      " [-0.03  0.    0.05]\n",
      " [ 0.01 -0.02  0.  ]]\n",
      "The changed vector b is [ 2.  3. -5.]\n",
      "\n",
      "\n",
      "The simple iteration method \n",
      "\n",
      "The solution of the system is [ 1.737484  2.696036 -5.03655 ]\n",
      "The number of iterations is 3\n",
      "The error of the solution is [-0.002284 -0.002396  0.000412]\n",
      "\n",
      "\n",
      "The Gauss-Zeidel method \n",
      "\n",
      "The solution of the system is [ 1.73750616  2.69604752 -5.03654589]\n",
      "The number of iterations is 4\n",
      "The error of the solution is [-7.00529898e-06  5.05060257e-07  5.68434189e-14]\n",
      "\n",
      "\n",
      "The solution with libraries is [ 1.73750623  2.69604752 -5.03654589]\n",
      "The erorr of library solution is [ 0.00000000e+00  0.00000000e+00 -5.68434189e-14]\n"
     ]
    }
   ],
   "source": [
    "import input\n",
    "import output\n",
    "\n",
    "EPS = 0.001 # the accuracy of solution\n",
    "MAX_ITERATIONS = 1000\n",
    "\n",
    "A_test, c_test = input.test_data()\n",
    "output.print_out(A_test, c_test, EPS, MAX_ITERATIONS)\n",
    "\n"
   ]
  },
  {
   "cell_type": "code",
   "execution_count": 2,
   "metadata": {},
   "outputs": [
    {
     "name": "stdout",
     "output_type": "stream",
     "text": [
      "The initial matrix is \n",
      " [[9.1 5.6 7.8]\n",
      " [3.8 5.1 2.8]\n",
      " [4.1 5.7 1.2]]\n",
      "The initial vector is [9.8 6.7 5.8]\n",
      "\n",
      "\n",
      "The changed matrix is \n",
      " [[ 0.         -0.61538462 -0.85714286]\n",
      " [-0.74509804  0.         -0.54901961]\n",
      " [-3.41666667 -4.75        0.        ]]\n",
      "The changed vector b is [1.07692308 1.31372549 4.83333333]\n",
      "\n",
      "\n",
      "The simple iteration method \n",
      "\n",
      "The method of simple iteration is divergent\n",
      "\n",
      "\n",
      "The Gauss-Zeidel method \n",
      "\n",
      "The Gauss-Zeidel method is divergent\n",
      "\n",
      "\n",
      "The solution with libraries is [-0.3703885   1.0938098   0.90323083]\n",
      "The erorr of library solution is [ 0.00000000e+00 -8.88178420e-16 -1.77635684e-15]\n"
     ]
    }
   ],
   "source": [
    "A_exp, c_exp = input.file_data()\n",
    "output.print_out(A_exp, c_exp, EPS, MAX_ITERATIONS)"
   ]
  },
  {
   "cell_type": "code",
   "execution_count": 3,
   "metadata": {},
   "outputs": [
    {
     "name": "stdout",
     "output_type": "stream",
     "text": [
      "Input the number of rows:2\n",
      "Input the number of columns:2\n",
      "\n",
      "The size of matrix is 2 x 2\n",
      "\n",
      "Input the row of the matrix as a separator use space:1 4\n",
      "Input the row of the matrix as a separator use space:10 70\n",
      "Input the vector b as a separator use space:1 1\n",
      "The initial matrix is \n",
      " [[ 1.  4.]\n",
      " [10. 70.]]\n",
      "The initial vector is [1. 1.]\n",
      "\n",
      "\n",
      "The changed matrix is \n",
      " [[ 0.         -4.        ]\n",
      " [-0.14285714  0.        ]]\n",
      "The changed vector b is [1.         0.01428571]\n",
      "\n",
      "\n",
      "The simple iteration method \n",
      "\n",
      "The method of simple iteration is divergent\n",
      "\n",
      "\n",
      "The Gauss-Zeidel method \n",
      "\n",
      "The Gauss-Zeidel method is divergent\n",
      "\n",
      "\n",
      "The solution with libraries is [ 2.2 -0.3]\n",
      "The erorr of library solution is [2.22044605e-16 0.00000000e+00]\n"
     ]
    }
   ],
   "source": [
    "user_matrix, user_b = input.get_data_keyboard()\n",
    "output.print_out(user_matrix, user_b, EPS, MAX_ITERATIONS)"
   ]
  },
  {
   "cell_type": "code",
   "execution_count": null,
   "metadata": {},
   "outputs": [],
   "source": []
  }
 ],
 "metadata": {
  "kernelspec": {
   "display_name": "Python 3",
   "language": "python",
   "name": "python3"
  },
  "language_info": {
   "codemirror_mode": {
    "name": "ipython",
    "version": 3
   },
   "file_extension": ".py",
   "mimetype": "text/x-python",
   "name": "python",
   "nbconvert_exporter": "python",
   "pygments_lexer": "ipython3",
   "version": "3.5.2"
  }
 },
 "nbformat": 4,
 "nbformat_minor": 2
}
