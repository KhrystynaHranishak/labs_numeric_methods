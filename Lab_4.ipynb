{
 "cells": [
  {
   "cell_type": "markdown",
   "metadata": {},
   "source": [
    "### SVD - розклад"
   ]
  },
  {
   "cell_type": "code",
   "execution_count": 1,
   "metadata": {},
   "outputs": [],
   "source": [
    "import numpy as np\n",
    "from scipy import linalg"
   ]
  },
  {
   "cell_type": "code",
   "execution_count": 2,
   "metadata": {},
   "outputs": [],
   "source": [
    "# дані для тестування\n",
    "def test_0():\n",
    "    matrix = [[1., 0., 0., 0., 2.], [0., 0., 3., 0., 0.], [0., 0., 0., 0., 0.], [0., 2., 0., 0., 0.]]\n",
    "    return np.array(matrix)\n",
    "\n",
    "def test_1():\n",
    "    matrix = [[0.41585, -0.35891, -0.63151, 0.48148], [1.3936, 1.2212, -2.1488, 1.6136], \n",
    "              [-0.87625, 0.73761, 1.2978, -1.0145], [-4.8377, -4.2394, 7.4592, -5.6012]]\n",
    "    b = [2.8763, -3.3795, -2.1987, -1.2131]\n",
    "    return np.array(matrix), np.array(b)\n",
    "\n",
    "def test_2():\n",
    "    matrix = [[0.41585, -0.35891, -0.63151, 0.48148], [1.3936, 1.2212, -2.1488, 1.6136], \n",
    "              [-0.87625, 0.73761, 1.2978, -1.0145], [-4.8377, -4.2394, 7.4592, -5.6012]]\n",
    "    b = [10.929, -0.7786, 0.012169, -2.4413]\n",
    "    return np.array(matrix), np.array(b)"
   ]
  },
  {
   "cell_type": "code",
   "execution_count": 3,
   "metadata": {},
   "outputs": [],
   "source": [
    "A_1, b_1 = test_1()\n",
    "A_test = test_0()\n",
    "U, s, Vh = linalg.svd(A_test)\n",
    "V = np.transpose(Vh)\n",
    "sigma_matrix = np.diag(s) \n",
    "egin_val_not_null = np.array([x for x in s if (x != 0)]) # ненульові власні числа\n",
    "rank = len(egin_val_not_null)\n",
    "cond = egin_val_not_null.max() / egin_val_not_null.min()"
   ]
  },
  {
   "cell_type": "code",
   "execution_count": 4,
   "metadata": {},
   "outputs": [],
   "source": [
    "def solve_simple_system(s, Vh, rank):\n",
    "    x = []\n",
    "    if (rank == len(s)):\n",
    "        x = [0 for i in range(len(s))]\n",
    "    else:\n",
    "        for i in range((rank+1), Vh.shape[1]):\n",
    "            x.append(Vh[:][i])            \n",
    "    return x\n",
    "    "
   ]
  },
  {
   "cell_type": "code",
   "execution_count": 7,
   "metadata": {},
   "outputs": [
    {
     "name": "stdout",
     "output_type": "stream",
     "text": [
      "The initial matrix \n",
      " [[ 0.41585 -0.35891 -0.63151  0.48148]\n",
      " [ 1.3936   1.2212  -2.1488   1.6136 ]\n",
      " [-0.87625  0.73761  1.2978  -1.0145 ]\n",
      " [-4.8377  -4.2394   7.4592  -5.6012 ]]\n",
      "The initial vector b \n",
      " [ 2.8763 -3.3795 -2.1987 -1.2131]\n",
      "\n",
      "\n",
      "The singular factorisation\n",
      "U: \n",
      " [[ 0.  1.  0.  0.]\n",
      " [ 1.  0.  0.  0.]\n",
      " [ 0.  0.  0. -1.]\n",
      " [ 0.  0.  1.  0.]]\n",
      "S: \n",
      " [[3.         0.         0.         0.        ]\n",
      " [0.         2.23606798 0.         0.        ]\n",
      " [0.         0.         2.         0.        ]\n",
      " [0.         0.         0.         0.        ]]\n",
      "V: \n",
      " [[-0.          0.4472136  -0.          0.         -0.89442719]\n",
      " [ 0.          0.          1.          0.          0.        ]\n",
      " [ 1.          0.          0.          0.          0.        ]\n",
      " [-0.          0.         -0.          1.          0.        ]\n",
      " [ 0.          0.89442719  0.          0.          0.4472136 ]]\n",
      "\n",
      "\n",
      "The rank of the matrix is 3\n",
      "\n",
      "\n",
      "The conditional number of the matrix is 1.5\n",
      "\n",
      "\n",
      "The solution of the simple system: Ax = 0\n",
      "\n",
      "\n",
      "The solution of the system is a linear combination of vectors\n",
      "[[-0.89442719]\n",
      " [ 0.        ]\n",
      " [ 0.        ]\n",
      " [ 0.        ]\n",
      " [ 0.4472136 ]]\n",
      "\n",
      "\n",
      "The solution of the general system: Ax = b\n",
      "\n",
      "\n",
      "The solution of the system is a combination of the solution Ax = 0 and the partial solution of Ax = b\n",
      "The partial solution of Ax = b  is [-0.60655    -0.50378612  1.28632046  0.          1.00757223]\n",
      "The solution of Ax = 0 is the linear combination of vectors\n",
      "[-0.89442719  0.          0.          0.          0.4472136 ]\n"
     ]
    }
   ],
   "source": [
    "print('The initial matrix \\n {}'.format(A_1))\n",
    "print('The initial vector b \\n {}'.format(b_1))\n",
    "print('\\n')\n",
    "print('The singular factorisation')\n",
    "print('U: \\n {}'.format(U))\n",
    "print('S: \\n {}'.format(sigma_matrix))\n",
    "print('V: \\n {}'.format(V))\n",
    "print('\\n')\n",
    "print('The rank of the matrix is {}'.format(rank))\n",
    "print('\\n')\n",
    "print('The conditional number of the matrix is {}'.format(cond))\n",
    "print('\\n')\n",
    "print('The solution of the simple system: Ax = 0')\n",
    "print('\\n')\n",
    "x_sol = solve_simple_system(s, Vh, rank)\n",
    "if (len(x_sol) == len(s)):\n",
    "    print('The system has only zero solution')\n",
    "else:\n",
    "    print('The solution of the system is a linear combination of vectors')\n",
    "    for k in range(len(x_sol)):\n",
    "        print(x_sol[k].reshape(len(x_sol[k]), 1))\n",
    "print('\\n')\n",
    "\n",
    "print('The solution of the general system: Ax = b')\n",
    "print('\\n')\n",
    "# розв'язок неоднорідної системи\n",
    "U_T = np.transpose(U)\n",
    "z = U_T.dot(b_1)\n",
    "if (rank == Vh.shape[1]):\n",
    "        y = z / egin_val_not_null\n",
    "        x = Vh.dot(y)\n",
    "        print('The system has one solution \\n {}'.format(x))\n",
    "else:\n",
    "    counter = 0\n",
    "    for k in range((rank+1), len(z)):\n",
    "        if (z[k] != 0):\n",
    "            counter += 1\n",
    "    if (counter == 0):\n",
    "        y = np.zeros(Vh.shape[1])\n",
    "        for i in range(rank):\n",
    "            y[i] = z[i] / egin_val_not_null[i]\n",
    "        print('The solution of the system is a combination of the solution Ax = 0 and the partial solution of Ax = b')\n",
    "        print('The partial solution of Ax = b  is {}'.format(Vh.dot(y)))\n",
    "        print('The solution of Ax = 0 is the linear combination of vectors')\n",
    "        for n in range((rank+1), Vh.shape[1]):\n",
    "            print(Vh[:][n])\n"
   ]
  },
  {
   "cell_type": "code",
   "execution_count": null,
   "metadata": {},
   "outputs": [],
   "source": []
  }
 ],
 "metadata": {
  "kernelspec": {
   "display_name": "Python 3",
   "language": "python",
   "name": "python3"
  },
  "language_info": {
   "codemirror_mode": {
    "name": "ipython",
    "version": 3
   },
   "file_extension": ".py",
   "mimetype": "text/x-python",
   "name": "python",
   "nbconvert_exporter": "python",
   "pygments_lexer": "ipython3",
   "version": "3.5.2"
  }
 },
 "nbformat": 4,
 "nbformat_minor": 2
}
