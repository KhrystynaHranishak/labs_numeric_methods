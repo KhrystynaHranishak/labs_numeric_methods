{
 "cells": [
  {
   "cell_type": "markdown",
   "metadata": {},
   "source": [
    "### SVD - розклад"
   ]
  },
  {
   "cell_type": "code",
   "execution_count": 11,
   "metadata": {},
   "outputs": [],
   "source": [
    "import numpy as np\n",
    "from scipy import linalg"
   ]
  },
  {
   "cell_type": "code",
   "execution_count": 25,
   "metadata": {},
   "outputs": [],
   "source": [
    "# дані для тестування\n",
    "def test_0():\n",
    "    matrix = [[1., 0., 0., 0., 2.], [0., 0., 3., 0., 0.], [0., 0., 0., 0., 0.], [0., 2., 0., 0., 0.]]\n",
    "    b = [10.929, -0.7786, 0.012169, -2.4413]\n",
    "    return np.array(matrix), np.array(b)\n",
    "\n",
    "def test_1():\n",
    "    matrix = [[0.41585, -0.35891, -0.63151, 0.48148], [1.3936, 1.2212, -2.1488, 1.6136], \n",
    "              [-0.87625, 0.73761, 1.2978, -1.0145], [-4.8377, -4.2394, 7.4592, -5.6012]]\n",
    "    b = [2.8763, -3.3795, -2.1987, -1.2131]\n",
    "    return np.array(matrix), np.array(b)\n",
    "\n",
    "def test_2():\n",
    "    matrix = [[0.41585, -0.35891, -0.63151, 0.48148], [1.3936, 1.2212, -2.1488, 1.6136], \n",
    "              [-0.87625, 0.73761, 1.2978, -1.0145], [-4.8377, -4.2394, 7.4592, -5.6012]]\n",
    "    b = [10.929, -0.7786, 0.012169, -2.4413]\n",
    "    return np.array(matrix), np.array(b)"
   ]
  },
  {
   "cell_type": "code",
   "execution_count": 29,
   "metadata": {},
   "outputs": [],
   "source": [
    "A_1, b_1 = test_1()\n",
    "#A_test = test_0()\n",
    "U, s, Vh = linalg.svd(A_1)\n",
    "V = np.transpose(Vh)\n",
    "sigma_matrix = np.diag(s) \n",
    "egin_val_not_null = np.array([x for x in s if (x != 0)]) # ненульові власні числа\n",
    "rank = len(egin_val_not_null)\n",
    "cond = egin_val_not_null.max() / egin_val_not_null.min()"
   ]
  },
  {
   "cell_type": "code",
   "execution_count": 30,
   "metadata": {},
   "outputs": [],
   "source": [
    "def solve_simple_system(s, Vh, rank):\n",
    "    x = []\n",
    "    if (rank == len(s)):\n",
    "        x = [0 for i in range(len(s))]\n",
    "    else:\n",
    "        for i in range((rank+1), Vh.shape[1]):\n",
    "            x.append(Vh[:][i])            \n",
    "    return x\n"
   ]
  },
  {
   "cell_type": "code",
   "execution_count": 31,
   "metadata": {},
   "outputs": [
    {
     "name": "stdout",
     "output_type": "stream",
     "text": [
      "The initial matrix \n",
      " [[ 0.41585 -0.35891 -0.63151  0.48148]\n",
      " [ 1.3936   1.2212  -2.1488   1.6136 ]\n",
      " [-0.87625  0.73761  1.2978  -1.0145 ]\n",
      " [-4.8377  -4.2394   7.4592  -5.6012 ]]\n",
      "The initial vector b \n",
      " [[ 2.8763]\n",
      " [-3.3795]\n",
      " [-2.1987]\n",
      " [-1.2131]]\n",
      "\n",
      "\n",
      "The singular factorization\n",
      "U: \n",
      " [[-5.95435766e-02  4.31071269e-01 -9.00350369e-01  1.15624585e-03]\n",
      " [-2.74177941e-01 -3.80885049e-02  1.13038130e-03  9.60923745e-01]\n",
      " [ 1.24194966e-01 -8.91744316e-01 -4.35163559e-01  6.01726438e-04]\n",
      " [ 9.51765007e-01  1.32358988e-01  7.82722623e-04  2.76810145e-01]]\n",
      "S: \n",
      " [[1.19032496e+01 0.00000000e+00 0.00000000e+00 0.00000000e+00]\n",
      " [0.00000000e+00 1.52110356e+00 0.00000000e+00 0.00000000e+00]\n",
      " [0.00000000e+00 0.00000000e+00 1.01824212e-02 0.00000000e+00]\n",
      " [0.00000000e+00 0.00000000e+00 0.00000000e+00 3.64218151e-05]]\n",
      "V: \n",
      " [[-4.30137583e-01 -3.57613307e-01  6.62620880e-01 -4.98024047e-01]\n",
      " [ 1.75700549e-01 -9.33606186e-01 -2.36929859e-01  2.03403660e-01]\n",
      " [ 4.60606502e-01  2.21858679e-02  7.10490789e-01  5.31556466e-01]\n",
      " [-7.56275497e-01  8.93735506e-06  8.06355372e-04  6.54252797e-01]]\n",
      "\n",
      "\n",
      "The rank of the matrix is 4\n",
      "\n",
      "\n",
      "The conditional number of the matrix is 326816.4845118323\n",
      "\n",
      "\n",
      "The solution of the simple system: Ax = 0\n",
      "\n",
      "\n",
      "The system has only zero solution\n",
      "\n",
      "\n",
      "The solution of the general system: Ax = b\n",
      "\n",
      "\n",
      "The system has one solution \n",
      " [[ 7.42883969e+04]\n",
      " [-6.37163080e+00]\n",
      " [-1.94086514e+02]\n",
      " [-6.44155686e+04]]\n",
      "The error of the solution [-1.10129683e-11 -1.00115471e-11  6.44950759e-12  1.22841515e-10]\n",
      "The solution with the library \n",
      " [[ 7.42883969e+04]\n",
      " [-6.37163080e+00]\n",
      " [-1.94086514e+02]\n",
      " [-6.44155686e+04]]\n"
     ]
    }
   ],
   "source": [
    "print('The initial matrix \\n {}'.format(A_1))\n",
    "print('The initial vector b \\n {}'.format(b_1.reshape(-1, 1)))\n",
    "print('\\n')\n",
    "print('The singular factorization')\n",
    "print('U: \\n {}'.format(U))\n",
    "print('S: \\n {}'.format(sigma_matrix))\n",
    "print('V: \\n {}'.format(Vh))\n",
    "print('\\n')\n",
    "print('The rank of the matrix is {}'.format(rank))\n",
    "print('\\n')\n",
    "print('The conditional number of the matrix is {}'.format(cond))\n",
    "print('\\n')\n",
    "print('The solution of the simple system: Ax = 0')\n",
    "print('\\n')\n",
    "x_sol = solve_simple_system(s, V, rank)\n",
    "if (len(x_sol) == len(s)):\n",
    "    print('The system has only zero solution')\n",
    "else:\n",
    "    print('The solution of the system is ')\n",
    "    for k in range(len(x_sol)):\n",
    "        print('{} {}'.format(('c_' + str(k) + ' * '), x_sol[k]))\n",
    "    print('c_i = const')\n",
    "    #print('The error of the solution {}'.format())\n",
    "print('\\n')\n",
    "\n",
    "print('The solution of the general system: Ax = b')\n",
    "print('\\n')\n",
    "# розв'язок неоднорідної системи\n",
    "U_T = np.transpose(U)\n",
    "z = U_T.dot(b_1)\n",
    "if (rank == V.shape[1]):\n",
    "        y = z / egin_val_not_null\n",
    "        x = V.dot(y)\n",
    "        print('The system has one solution \\n {}'.format(x.reshape(-1, 1)))\n",
    "        print('The error of the solution {}'.format(A_1.dot(x) - b_1))\n",
    "        print('The solution with the library \\n {}'.format((np.linalg.solve(A_1, b_1)).reshape(-1, 1)))\n",
    "else:\n",
    "    counter = 0\n",
    "    for k in range((rank+1), len(z)):\n",
    "        if (z[k] != 0):\n",
    "            counter += 1\n",
    "    if (counter == 0):\n",
    "        y = np.zeros(V.shape[1])\n",
    "        for i in range(rank):\n",
    "            y[i] = z[i] / egin_val_not_null[i]\n",
    "        print('The solution of the system is a combination of the solution Ax = 0 and the partial solution of Ax = b')\n",
    "        print('The partial solution of Ax = b  is \\n {}'.format((V.dot(y)).reshape(-1, 1)))\n",
    "        print('The error of the partial solution is {}'.format(A_1.dot(V.dot(y)) - b_1))\n",
    "        print('The solution of Ax = 0 is ')\n",
    "        for n in range((rank+1), V.shape[1]):\n",
    "            print('{} {}'.format(('c_' + str(n) + ' * '), V[:][n]))\n",
    "    else:\n",
    "        print('The system has only psevdosolution \\n {}'.format((V.dot(y)).reshape(-1, 1)))\n",
    "        print('The error of the solution {}'.format(A_1.dot(V.dot(y)) - b_1))\n"
   ]
  },
  {
   "cell_type": "code",
   "execution_count": null,
   "metadata": {},
   "outputs": [],
   "source": []
  },
  {
   "cell_type": "code",
   "execution_count": null,
   "metadata": {},
   "outputs": [],
   "source": []
  }
 ],
 "metadata": {
  "kernelspec": {
   "display_name": "Python 3",
   "language": "python",
   "name": "python3"
  },
  "language_info": {
   "codemirror_mode": {
    "name": "ipython",
    "version": 3
   },
   "file_extension": ".py",
   "mimetype": "text/x-python",
   "name": "python",
   "nbconvert_exporter": "python",
   "pygments_lexer": "ipython3",
   "version": "3.5.2"
  }
 },
 "nbformat": 4,
 "nbformat_minor": 2
}
